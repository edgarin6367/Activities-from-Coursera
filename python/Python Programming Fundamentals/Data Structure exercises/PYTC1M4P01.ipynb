{
 "cells": [
  {
   "cell_type": "markdown",
   "id": "b4113905-db0f-4bd4-a5f2-130c159a8cde",
   "metadata": {},
   "source": [
    "## How to Interact with this Jupyter Notebook\n",
    "\n",
    "In this activity, you will use a Jupyter Notebook, which integrates both text and code. The gray boxes contain executable code, which you will run in order to view its output. The text in between the code provides instructions.\n"
   ]
  },
  {
   "cell_type": "markdown",
   "id": "9238e2e7-061a-4073-801c-7a6feecf5b6a",
   "metadata": {},
   "source": [
    "## Scenario: The Furry Foodie\n",
    "\n",
    "Welcome to The Furry Foodie, where tails wag and purrs rumble! \n",
    "\n",
    "You're the new data analyst on the block, and it's your job to ensure our inventory management system runs smoothly. You'll be working with various data structures to track product IDs, monitor stock levels, analyze sales trends, and organize our wide selection of pet products. \n",
    "\n",
    "### Project Summary:\n",
    "\n",
    "* **Lists - Inventory Management:** Efficiently manage and update our inventory list using Python lists. We'll practice adding new items, removing out-of-stock products, and ensuring our inventory is always up-to-date.\n",
    "\n",
    "* **Tuples - Immutable Data:** Explore the concept of immutability with tuples and understand their suitability for storing fixed data, such as product IDs.\n",
    "\n",
    "* **Dictionaries - Inventory Lookup:** Utilize dictionaries to create a dynamic inventory database. We'll learn how to load inventory data from a CSV file, access and update stock levels, and handle item additions and removals.\n",
    "\n",
    "* **Iterating over a Dictionary:** Generate clear and informative inventory reports by iterating through the dictionary and extracting key-value pairs.\n"
   ]
  },
  {
   "cell_type": "markdown",
   "id": "25396705-ee68-4b57-9985-7cc339699b58",
   "metadata": {},
   "source": [
    "For this activity, you will have access to a CSV file named `inventory.csv` that has already been created for you and contains some initial items. However, it has not yet been loaded into the jupyter notebook.\n",
    "\n",
    "In the cell below, add `inventory.csv` within pd.read_csv() to load the inventory data from the CSV file. Then, run the cell, which will:\n",
    "* Extract the product names from the DataFrame and store them in a list named `inventory`.\n",
    "* Print the inventory list to view the data."
   ]
  },
  {
   "cell_type": "code",
   "execution_count": 1,
   "id": "af33d8dc-8e96-4bcd-9a0c-23751e4831f4",
   "metadata": {},
   "outputs": [
    {
     "ename": "FileNotFoundError",
     "evalue": "[Errno 2] No such file or directory: 'insert code here'",
     "output_type": "error",
     "traceback": [
      "\u001b[31m---------------------------------------------------------------------------\u001b[39m",
      "\u001b[31mFileNotFoundError\u001b[39m                         Traceback (most recent call last)",
      "\u001b[36mCell\u001b[39m\u001b[36m \u001b[39m\u001b[32mIn[1]\u001b[39m\u001b[32m, line 5\u001b[39m\n\u001b[32m      2\u001b[39m \u001b[38;5;28;01mimport\u001b[39;00m\u001b[38;5;250m \u001b[39m\u001b[34;01mpandas\u001b[39;00m\u001b[38;5;250m \u001b[39m\u001b[38;5;28;01mas\u001b[39;00m\u001b[38;5;250m \u001b[39m\u001b[34;01mpd\u001b[39;00m\n\u001b[32m      4\u001b[39m \u001b[38;5;66;03m# Load the inventory from the CSV file\u001b[39;00m\n\u001b[32m----> \u001b[39m\u001b[32m5\u001b[39m inventory_df = \u001b[43mpd\u001b[49m\u001b[43m.\u001b[49m\u001b[43mread_csv\u001b[49m\u001b[43m(\u001b[49m\u001b[33;43m'\u001b[39;49m\u001b[33;43minsert code here\u001b[39;49m\u001b[33;43m'\u001b[39;49m\u001b[43m)\u001b[49m\n\u001b[32m      7\u001b[39m \u001b[38;5;66;03m# Extract the product names from the DataFrame and store them in a list\u001b[39;00m\n\u001b[32m      8\u001b[39m inventory = inventory_df[\u001b[33m'\u001b[39m\u001b[33mproduct_name\u001b[39m\u001b[33m'\u001b[39m].tolist()\n",
      "\u001b[36mFile \u001b[39m\u001b[32m~\\AppData\\Local\\Packages\\PythonSoftwareFoundation.Python.3.13_qbz5n2kfra8p0\\LocalCache\\local-packages\\Python313\\site-packages\\pandas\\io\\parsers\\readers.py:1026\u001b[39m, in \u001b[36mread_csv\u001b[39m\u001b[34m(filepath_or_buffer, sep, delimiter, header, names, index_col, usecols, dtype, engine, converters, true_values, false_values, skipinitialspace, skiprows, skipfooter, nrows, na_values, keep_default_na, na_filter, verbose, skip_blank_lines, parse_dates, infer_datetime_format, keep_date_col, date_parser, date_format, dayfirst, cache_dates, iterator, chunksize, compression, thousands, decimal, lineterminator, quotechar, quoting, doublequote, escapechar, comment, encoding, encoding_errors, dialect, on_bad_lines, delim_whitespace, low_memory, memory_map, float_precision, storage_options, dtype_backend)\u001b[39m\n\u001b[32m   1013\u001b[39m kwds_defaults = _refine_defaults_read(\n\u001b[32m   1014\u001b[39m     dialect,\n\u001b[32m   1015\u001b[39m     delimiter,\n\u001b[32m   (...)\u001b[39m\u001b[32m   1022\u001b[39m     dtype_backend=dtype_backend,\n\u001b[32m   1023\u001b[39m )\n\u001b[32m   1024\u001b[39m kwds.update(kwds_defaults)\n\u001b[32m-> \u001b[39m\u001b[32m1026\u001b[39m \u001b[38;5;28;01mreturn\u001b[39;00m \u001b[43m_read\u001b[49m\u001b[43m(\u001b[49m\u001b[43mfilepath_or_buffer\u001b[49m\u001b[43m,\u001b[49m\u001b[43m \u001b[49m\u001b[43mkwds\u001b[49m\u001b[43m)\u001b[49m\n",
      "\u001b[36mFile \u001b[39m\u001b[32m~\\AppData\\Local\\Packages\\PythonSoftwareFoundation.Python.3.13_qbz5n2kfra8p0\\LocalCache\\local-packages\\Python313\\site-packages\\pandas\\io\\parsers\\readers.py:620\u001b[39m, in \u001b[36m_read\u001b[39m\u001b[34m(filepath_or_buffer, kwds)\u001b[39m\n\u001b[32m    617\u001b[39m _validate_names(kwds.get(\u001b[33m\"\u001b[39m\u001b[33mnames\u001b[39m\u001b[33m\"\u001b[39m, \u001b[38;5;28;01mNone\u001b[39;00m))\n\u001b[32m    619\u001b[39m \u001b[38;5;66;03m# Create the parser.\u001b[39;00m\n\u001b[32m--> \u001b[39m\u001b[32m620\u001b[39m parser = \u001b[43mTextFileReader\u001b[49m\u001b[43m(\u001b[49m\u001b[43mfilepath_or_buffer\u001b[49m\u001b[43m,\u001b[49m\u001b[43m \u001b[49m\u001b[43m*\u001b[49m\u001b[43m*\u001b[49m\u001b[43mkwds\u001b[49m\u001b[43m)\u001b[49m\n\u001b[32m    622\u001b[39m \u001b[38;5;28;01mif\u001b[39;00m chunksize \u001b[38;5;129;01mor\u001b[39;00m iterator:\n\u001b[32m    623\u001b[39m     \u001b[38;5;28;01mreturn\u001b[39;00m parser\n",
      "\u001b[36mFile \u001b[39m\u001b[32m~\\AppData\\Local\\Packages\\PythonSoftwareFoundation.Python.3.13_qbz5n2kfra8p0\\LocalCache\\local-packages\\Python313\\site-packages\\pandas\\io\\parsers\\readers.py:1620\u001b[39m, in \u001b[36mTextFileReader.__init__\u001b[39m\u001b[34m(self, f, engine, **kwds)\u001b[39m\n\u001b[32m   1617\u001b[39m     \u001b[38;5;28mself\u001b[39m.options[\u001b[33m\"\u001b[39m\u001b[33mhas_index_names\u001b[39m\u001b[33m\"\u001b[39m] = kwds[\u001b[33m\"\u001b[39m\u001b[33mhas_index_names\u001b[39m\u001b[33m\"\u001b[39m]\n\u001b[32m   1619\u001b[39m \u001b[38;5;28mself\u001b[39m.handles: IOHandles | \u001b[38;5;28;01mNone\u001b[39;00m = \u001b[38;5;28;01mNone\u001b[39;00m\n\u001b[32m-> \u001b[39m\u001b[32m1620\u001b[39m \u001b[38;5;28mself\u001b[39m._engine = \u001b[38;5;28;43mself\u001b[39;49m\u001b[43m.\u001b[49m\u001b[43m_make_engine\u001b[49m\u001b[43m(\u001b[49m\u001b[43mf\u001b[49m\u001b[43m,\u001b[49m\u001b[43m \u001b[49m\u001b[38;5;28;43mself\u001b[39;49m\u001b[43m.\u001b[49m\u001b[43mengine\u001b[49m\u001b[43m)\u001b[49m\n",
      "\u001b[36mFile \u001b[39m\u001b[32m~\\AppData\\Local\\Packages\\PythonSoftwareFoundation.Python.3.13_qbz5n2kfra8p0\\LocalCache\\local-packages\\Python313\\site-packages\\pandas\\io\\parsers\\readers.py:1880\u001b[39m, in \u001b[36mTextFileReader._make_engine\u001b[39m\u001b[34m(self, f, engine)\u001b[39m\n\u001b[32m   1878\u001b[39m     \u001b[38;5;28;01mif\u001b[39;00m \u001b[33m\"\u001b[39m\u001b[33mb\u001b[39m\u001b[33m\"\u001b[39m \u001b[38;5;129;01mnot\u001b[39;00m \u001b[38;5;129;01min\u001b[39;00m mode:\n\u001b[32m   1879\u001b[39m         mode += \u001b[33m\"\u001b[39m\u001b[33mb\u001b[39m\u001b[33m\"\u001b[39m\n\u001b[32m-> \u001b[39m\u001b[32m1880\u001b[39m \u001b[38;5;28mself\u001b[39m.handles = \u001b[43mget_handle\u001b[49m\u001b[43m(\u001b[49m\n\u001b[32m   1881\u001b[39m \u001b[43m    \u001b[49m\u001b[43mf\u001b[49m\u001b[43m,\u001b[49m\n\u001b[32m   1882\u001b[39m \u001b[43m    \u001b[49m\u001b[43mmode\u001b[49m\u001b[43m,\u001b[49m\n\u001b[32m   1883\u001b[39m \u001b[43m    \u001b[49m\u001b[43mencoding\u001b[49m\u001b[43m=\u001b[49m\u001b[38;5;28;43mself\u001b[39;49m\u001b[43m.\u001b[49m\u001b[43moptions\u001b[49m\u001b[43m.\u001b[49m\u001b[43mget\u001b[49m\u001b[43m(\u001b[49m\u001b[33;43m\"\u001b[39;49m\u001b[33;43mencoding\u001b[39;49m\u001b[33;43m\"\u001b[39;49m\u001b[43m,\u001b[49m\u001b[43m \u001b[49m\u001b[38;5;28;43;01mNone\u001b[39;49;00m\u001b[43m)\u001b[49m\u001b[43m,\u001b[49m\n\u001b[32m   1884\u001b[39m \u001b[43m    \u001b[49m\u001b[43mcompression\u001b[49m\u001b[43m=\u001b[49m\u001b[38;5;28;43mself\u001b[39;49m\u001b[43m.\u001b[49m\u001b[43moptions\u001b[49m\u001b[43m.\u001b[49m\u001b[43mget\u001b[49m\u001b[43m(\u001b[49m\u001b[33;43m\"\u001b[39;49m\u001b[33;43mcompression\u001b[39;49m\u001b[33;43m\"\u001b[39;49m\u001b[43m,\u001b[49m\u001b[43m \u001b[49m\u001b[38;5;28;43;01mNone\u001b[39;49;00m\u001b[43m)\u001b[49m\u001b[43m,\u001b[49m\n\u001b[32m   1885\u001b[39m \u001b[43m    \u001b[49m\u001b[43mmemory_map\u001b[49m\u001b[43m=\u001b[49m\u001b[38;5;28;43mself\u001b[39;49m\u001b[43m.\u001b[49m\u001b[43moptions\u001b[49m\u001b[43m.\u001b[49m\u001b[43mget\u001b[49m\u001b[43m(\u001b[49m\u001b[33;43m\"\u001b[39;49m\u001b[33;43mmemory_map\u001b[39;49m\u001b[33;43m\"\u001b[39;49m\u001b[43m,\u001b[49m\u001b[43m \u001b[49m\u001b[38;5;28;43;01mFalse\u001b[39;49;00m\u001b[43m)\u001b[49m\u001b[43m,\u001b[49m\n\u001b[32m   1886\u001b[39m \u001b[43m    \u001b[49m\u001b[43mis_text\u001b[49m\u001b[43m=\u001b[49m\u001b[43mis_text\u001b[49m\u001b[43m,\u001b[49m\n\u001b[32m   1887\u001b[39m \u001b[43m    \u001b[49m\u001b[43merrors\u001b[49m\u001b[43m=\u001b[49m\u001b[38;5;28;43mself\u001b[39;49m\u001b[43m.\u001b[49m\u001b[43moptions\u001b[49m\u001b[43m.\u001b[49m\u001b[43mget\u001b[49m\u001b[43m(\u001b[49m\u001b[33;43m\"\u001b[39;49m\u001b[33;43mencoding_errors\u001b[39;49m\u001b[33;43m\"\u001b[39;49m\u001b[43m,\u001b[49m\u001b[43m \u001b[49m\u001b[33;43m\"\u001b[39;49m\u001b[33;43mstrict\u001b[39;49m\u001b[33;43m\"\u001b[39;49m\u001b[43m)\u001b[49m\u001b[43m,\u001b[49m\n\u001b[32m   1888\u001b[39m \u001b[43m    \u001b[49m\u001b[43mstorage_options\u001b[49m\u001b[43m=\u001b[49m\u001b[38;5;28;43mself\u001b[39;49m\u001b[43m.\u001b[49m\u001b[43moptions\u001b[49m\u001b[43m.\u001b[49m\u001b[43mget\u001b[49m\u001b[43m(\u001b[49m\u001b[33;43m\"\u001b[39;49m\u001b[33;43mstorage_options\u001b[39;49m\u001b[33;43m\"\u001b[39;49m\u001b[43m,\u001b[49m\u001b[43m \u001b[49m\u001b[38;5;28;43;01mNone\u001b[39;49;00m\u001b[43m)\u001b[49m\u001b[43m,\u001b[49m\n\u001b[32m   1889\u001b[39m \u001b[43m\u001b[49m\u001b[43m)\u001b[49m\n\u001b[32m   1890\u001b[39m \u001b[38;5;28;01massert\u001b[39;00m \u001b[38;5;28mself\u001b[39m.handles \u001b[38;5;129;01mis\u001b[39;00m \u001b[38;5;129;01mnot\u001b[39;00m \u001b[38;5;28;01mNone\u001b[39;00m\n\u001b[32m   1891\u001b[39m f = \u001b[38;5;28mself\u001b[39m.handles.handle\n",
      "\u001b[36mFile \u001b[39m\u001b[32m~\\AppData\\Local\\Packages\\PythonSoftwareFoundation.Python.3.13_qbz5n2kfra8p0\\LocalCache\\local-packages\\Python313\\site-packages\\pandas\\io\\common.py:873\u001b[39m, in \u001b[36mget_handle\u001b[39m\u001b[34m(path_or_buf, mode, encoding, compression, memory_map, is_text, errors, storage_options)\u001b[39m\n\u001b[32m    868\u001b[39m \u001b[38;5;28;01melif\u001b[39;00m \u001b[38;5;28misinstance\u001b[39m(handle, \u001b[38;5;28mstr\u001b[39m):\n\u001b[32m    869\u001b[39m     \u001b[38;5;66;03m# Check whether the filename is to be opened in binary mode.\u001b[39;00m\n\u001b[32m    870\u001b[39m     \u001b[38;5;66;03m# Binary mode does not support 'encoding' and 'newline'.\u001b[39;00m\n\u001b[32m    871\u001b[39m     \u001b[38;5;28;01mif\u001b[39;00m ioargs.encoding \u001b[38;5;129;01mand\u001b[39;00m \u001b[33m\"\u001b[39m\u001b[33mb\u001b[39m\u001b[33m\"\u001b[39m \u001b[38;5;129;01mnot\u001b[39;00m \u001b[38;5;129;01min\u001b[39;00m ioargs.mode:\n\u001b[32m    872\u001b[39m         \u001b[38;5;66;03m# Encoding\u001b[39;00m\n\u001b[32m--> \u001b[39m\u001b[32m873\u001b[39m         handle = \u001b[38;5;28;43mopen\u001b[39;49m\u001b[43m(\u001b[49m\n\u001b[32m    874\u001b[39m \u001b[43m            \u001b[49m\u001b[43mhandle\u001b[49m\u001b[43m,\u001b[49m\n\u001b[32m    875\u001b[39m \u001b[43m            \u001b[49m\u001b[43mioargs\u001b[49m\u001b[43m.\u001b[49m\u001b[43mmode\u001b[49m\u001b[43m,\u001b[49m\n\u001b[32m    876\u001b[39m \u001b[43m            \u001b[49m\u001b[43mencoding\u001b[49m\u001b[43m=\u001b[49m\u001b[43mioargs\u001b[49m\u001b[43m.\u001b[49m\u001b[43mencoding\u001b[49m\u001b[43m,\u001b[49m\n\u001b[32m    877\u001b[39m \u001b[43m            \u001b[49m\u001b[43merrors\u001b[49m\u001b[43m=\u001b[49m\u001b[43merrors\u001b[49m\u001b[43m,\u001b[49m\n\u001b[32m    878\u001b[39m \u001b[43m            \u001b[49m\u001b[43mnewline\u001b[49m\u001b[43m=\u001b[49m\u001b[33;43m\"\u001b[39;49m\u001b[33;43m\"\u001b[39;49m\u001b[43m,\u001b[49m\n\u001b[32m    879\u001b[39m \u001b[43m        \u001b[49m\u001b[43m)\u001b[49m\n\u001b[32m    880\u001b[39m     \u001b[38;5;28;01melse\u001b[39;00m:\n\u001b[32m    881\u001b[39m         \u001b[38;5;66;03m# Binary mode\u001b[39;00m\n\u001b[32m    882\u001b[39m         handle = \u001b[38;5;28mopen\u001b[39m(handle, ioargs.mode)\n",
      "\u001b[31mFileNotFoundError\u001b[39m: [Errno 2] No such file or directory: 'insert code here'"
     ]
    }
   ],
   "source": [
    "# Import a powerful tool called \"pandas\" that you'll use to work with and organize data easily\n",
    "import pandas as pd\n",
    "\n",
    "# Load the inventory from the CSV file\n",
    "inventory_df = pd.read_csv('insert code here')\n",
    "\n",
    "# Extract the product names from the DataFrame and store them in a list\n",
    "inventory = inventory_df['product_name'].tolist()\n",
    "\n",
    "# Print the inventory list and inspect the output\n",
    "print(inventory) "
   ]
  },
  {
   "cell_type": "markdown",
   "id": "64b5aa26-79e4-4bd8-9054-f4a2318451ca",
   "metadata": {},
   "source": [
    "Notice that the output above is a list of inventory items at the Furry Foodie. \n",
    "\n",
    "It turns out that \"Cheesy Chompers\" is no longer a popular choice at The Furry Foodie and you've decided to discontinue them. You need to update the inventory list to reflect this change.\n",
    "\n",
    "The `remove()` method searches for the specified item in the list and removes its first occurrence. If the item is not found, it raises a ValueError.\n",
    "\n",
    "In the cell below:\n",
    "\n",
    "* Use the `remove()` method to remove the first occurrence of \"Cheesy Chompers\" from the `inventory` list.\n",
    "\n",
    "Then, run the cell to print the updated inventory and see the changes.\n"
   ]
  },
  {
   "cell_type": "code",
   "execution_count": 7,
   "id": "c1fd036f-dda7-46b4-92fa-95f97896ac31",
   "metadata": {},
   "outputs": [
    {
     "ename": "ValueError",
     "evalue": "list.remove(x): x not in list",
     "output_type": "error",
     "traceback": [
      "\u001b[0;31m---------------------------------------------------------------------------\u001b[0m",
      "\u001b[0;31mValueError\u001b[0m                                Traceback (most recent call last)",
      "\u001b[0;32m<ipython-input-7-042ca7ba85ba>\u001b[0m in \u001b[0;36m<module>\u001b[0;34m\u001b[0m\n\u001b[1;32m      1\u001b[0m \u001b[0;31m# Remove the \"Cheesy Chompers\"\u001b[0m\u001b[0;34m\u001b[0m\u001b[0;34m\u001b[0m\u001b[0;34m\u001b[0m\u001b[0m\n\u001b[0;32m----> 2\u001b[0;31m \u001b[0minventory\u001b[0m\u001b[0;34m.\u001b[0m\u001b[0mremove\u001b[0m\u001b[0;34m(\u001b[0m\u001b[0;34m\"Cheesy Chompers\"\u001b[0m\u001b[0;34m)\u001b[0m\u001b[0;34m\u001b[0m\u001b[0;34m\u001b[0m\u001b[0m\n\u001b[0m\u001b[1;32m      3\u001b[0m \u001b[0;34m\u001b[0m\u001b[0m\n\u001b[1;32m      4\u001b[0m \u001b[0mprint\u001b[0m\u001b[0;34m(\u001b[0m\u001b[0;34m\"\\nUpdated inventory:\"\u001b[0m\u001b[0;34m)\u001b[0m\u001b[0;34m\u001b[0m\u001b[0;34m\u001b[0m\u001b[0m\n\u001b[1;32m      5\u001b[0m \u001b[0mprint\u001b[0m\u001b[0;34m(\u001b[0m\u001b[0minventory\u001b[0m\u001b[0;34m)\u001b[0m\u001b[0;34m\u001b[0m\u001b[0;34m\u001b[0m\u001b[0m\n",
      "\u001b[0;31mValueError\u001b[0m: list.remove(x): x not in list"
     ]
    }
   ],
   "source": [
    "# Remove the \"Cheesy Chompers\"\n",
    "inventory.remove(\"insert code here\") \n",
    "\n",
    "print(\"\\nUpdated inventory:\")\n",
    "print(inventory)"
   ]
  },
  {
   "cell_type": "markdown",
   "id": "85825a95-2891-4ccc-85c2-4fbd5965e112",
   "metadata": {},
   "source": [
    "Great work! The updated inventory list no longer shows \"Cheesy Chompers\", which has been succesfully removed.\n",
    "\n",
    "However, a new shipment of delicious pet treats has just arrived. \n",
    "\n",
    "The `new_items_str` variable in the cell below contains a comma-separated string representing these new items. The provided code converts the `new_items_str` into a list of individual items using the `split()` method. \n",
    "\n",
    "The `split()` method breaks a string into a list of substrings based on a specified delimiter (in this case, a comma followed by a space).\n",
    "\n",
    "In the cell below: \n",
    "* Use the `extend()` method to add all the new items from the `new_items` list to the end of the existing inventory list by adding `new_items` to the `extend()` method. \n",
    "\n",
    "Lastly, run the cell to print the updated inventory and see your newly added items. "
   ]
  },
  {
   "cell_type": "code",
   "execution_count": 28,
   "id": "db7b9565-bc7d-4ba9-bf3f-35d5b494e4ca",
   "metadata": {},
   "outputs": [
    {
     "ename": "SyntaxError",
     "evalue": "invalid syntax (<ipython-input-28-33c78b0eaf61>, line 10)",
     "output_type": "error",
     "traceback": [
      "\u001b[0;36m  File \u001b[0;32m\"<ipython-input-28-33c78b0eaf61>\"\u001b[0;36m, line \u001b[0;32m10\u001b[0m\n\u001b[0;31m    inventory.extend(insert code here)\u001b[0m\n\u001b[0m                            ^\u001b[0m\n\u001b[0;31mSyntaxError\u001b[0m\u001b[0;31m:\u001b[0m invalid syntax\n"
     ]
    }
   ],
   "source": [
    "print(\"A new shipment of gourmet goodies has arrived!\")\n",
    "\n",
    "# New shipment of goodies! (provided as a string)\n",
    "new_items_str = \"Squeaky Sausages, Tuna Tidbits, Crunchy Carrots\"\n",
    "\n",
    "# Convert the string to a list and stores them in the variable new_items\n",
    "new_items = new_items_str.split(\", \") \n",
    "\n",
    "# Update the inventory list by adding \"new_items\" to the extend() method\n",
    "inventory.extend(insert code here) \n",
    "\n",
    "print(\"\\nUpdated inventory:\")\n",
    "print(inventory) "
   ]
  },
  {
   "cell_type": "markdown",
   "id": "1760b572-0f15-4bcc-81e8-792d96dc55c4",
   "metadata": {},
   "source": [
    "Great job adding those new items!\n",
    "\n",
    "As the Furry Foodie grows, you're starting to see a lot of products with similar names. It's getting tricky to keep them organized, especially when processing orders or tracking sales. You need a way to assign unique identifiers to each product, something that won't accidentally get changed or mixed up.\n",
    "\n",
    "You will use tuples to represent unique product IDs. Tuples are ordered, immutable collections of items.  Immutability means that once a tuple is created, its elements cannot be changed. This makes tuples ideal for storing data that shouldn't be modified.\n",
    "\n",
    "Please note that you will run the cell below twice. \n",
    "\n",
    "First, run the cell now, which has a few simple product IDs using tuples that has already been created for you. When you run the cell, you will print the product IDs. Observe the output.\n",
    "\n",
    "Then, remove the `#` in front of the last line of code to uncomment it. This last line of code attempts to modify a tuple. \n",
    "\n",
    "Run the cell a second time and observe the `TypeError` that demonstrates the immutability of tuples."
   ]
  },
  {
   "cell_type": "code",
   "execution_count": 16,
   "id": "63d7b221-829b-4256-92ec-16fc508c93d7",
   "metadata": {},
   "outputs": [
    {
     "name": "stdout",
     "output_type": "stream",
     "text": [
      "Product IDs:\n",
      "('Salmon Snacks', 'Small')\n",
      "('Cheesy Chompers', 'Medium')\n",
      "('Peanut Butter Biscuits', 'Large')\n"
     ]
    },
    {
     "ename": "TypeError",
     "evalue": "'tuple' object does not support item assignment",
     "output_type": "error",
     "traceback": [
      "\u001b[0;31m---------------------------------------------------------------------------\u001b[0m",
      "\u001b[0;31mTypeError\u001b[0m                                 Traceback (most recent call last)",
      "\u001b[0;32m<ipython-input-16-68888cafc893>\u001b[0m in \u001b[0;36m<module>\u001b[0;34m\u001b[0m\n\u001b[1;32m     11\u001b[0m \u001b[0;34m\u001b[0m\u001b[0m\n\u001b[1;32m     12\u001b[0m \u001b[0;31m# Try to modify a tuple by removing the \"#\" in front of the line below (this will cause an error)\u001b[0m\u001b[0;34m\u001b[0m\u001b[0;34m\u001b[0m\u001b[0;34m\u001b[0m\u001b[0m\n\u001b[0;32m---> 13\u001b[0;31m \u001b[0mproduct_id1\u001b[0m\u001b[0;34m[\u001b[0m\u001b[0;36m0\u001b[0m\u001b[0;34m]\u001b[0m \u001b[0;34m=\u001b[0m \u001b[0;34m\"Tuna Treats\"\u001b[0m  \u001b[0;31m# Uncomment this line to see the TypeError\u001b[0m\u001b[0;34m\u001b[0m\u001b[0;34m\u001b[0m\u001b[0m\n\u001b[0m",
      "\u001b[0;31mTypeError\u001b[0m: 'tuple' object does not support item assignment"
     ]
    }
   ],
   "source": [
    "# Create some product IDs as tuples\n",
    "product_id1 = (\"Salmon Snacks\", \"Small\")\n",
    "product_id2 = (\"Cheesy Chompers\", \"Medium\")\n",
    "product_id3 = (\"Peanut Butter Biscuits\", \"Large\")\n",
    "\n",
    "# Print the product IDs\n",
    "print(\"Product IDs:\")\n",
    "print(product_id1)\n",
    "print(product_id2)\n",
    "print(product_id3)\n",
    "\n",
    "# Try to modify a tuple by removing the \"#\" in front of the line below (this will cause an error)\n",
    "# product_id1[0] = \"Tuna Treats\"  # Uncomment this line to see the TypeError"
   ]
  },
  {
   "cell_type": "markdown",
   "id": "ee711337-4937-4fe2-8c27-3cf5d386126e",
   "metadata": {},
   "source": [
    "The previous sections focused on using lists and tuples for inventory management. While these data structures are useful, they have limitations when it comes to efficiently accessing and updating specific product information. \n",
    "\n",
    "Dictionaries offer a more organized and flexible approach, allowing you to store product names as keys and their corresponding stock levels as values. This key-value structure enables quick lookups and modifications, making dictionaries ideal for managing inventory data.\n",
    "\n",
    "Run the cell below, which uses the pandas library to load data from the CSV file and coverts it into a dictionary. Notice pandas' versatility here in handling different data structures."
   ]
  },
  {
   "cell_type": "code",
   "execution_count": 32,
   "id": "06a5a2b0-a69e-4bac-b39f-d5987460ef85",
   "metadata": {},
   "outputs": [
    {
     "name": "stdout",
     "output_type": "stream",
     "text": [
      "Initial Inventory:\n",
      "{'Salmon Snacks': 25, 'Cheesy Chompers': 15, 'Peanut Butter Biscuits': 30, 'Feathery Fun Sticks': 34, 'Squeaky Sausages': 16, 'Tuna Tidbits': 13, 'Crunchy Carrots': 17, 'Beef Jerky': 16, 'Chicken Chunks': 46, 'Duck Delights': 23, 'Lamb Lovin': 22, 'Turkey Tidbits': 25, 'Fish Fingers': 13, 'Dental Chews': 45, 'Hip & Joint Treats': 33, 'Skin & Coat Formula': 33, 'Calming Chews': 48, 'Training Treats': 11, 'Catnip Mice': 23, 'Feather Wand': 40, 'Laser Pointer': 21, 'Scratching Post': 14, 'Cat Tree': 45, 'Litter Box': 48, 'Litter Scoop': 18, 'Cat Food (dry)': 15, 'Cat Food (wet)': 24, 'Dog Food (dry)': 28, 'Dog Food (wet)': 15, 'Dog Leash': 23, 'Dog Collar': 23, 'Dog Harness': 40, 'Dog Bed': 30, 'Dog Toys': 41, 'Cat Toys': 40, 'Pet Shampoo': 35, 'Pet Conditioner': 27, 'Pet Toothbrush': 38, 'Pet Toothpaste': 24, 'Pet Nail Clippers': 30, 'Pet Carrier': 30, 'Pet Bowls': 27, 'Pet Water Fountain': 12, 'Pet First Aid Kit': 40, 'Pet Grooming Brush': 48, 'Pet Waste Bags': 45, 'Pet Training Clicker': 47, 'Pet Travel Bowl': 17, 'Pet Cooling Mat': 34, 'Pet Heating Pad': 11}\n"
     ]
    }
   ],
   "source": [
    "import pandas as pd\n",
    "\n",
    "# Load inventory data from CSV\n",
    "inventory_df = pd.read_csv('inventory.csv')\n",
    "\n",
    "# Set the 'product_name' column as the index\n",
    "inventory_df.set_index('product_name', inplace=True)\n",
    "\n",
    "# Convert the DataFrame directly to a dictionary, selecting only the 'stock_level' column\n",
    "inventory_dict = inventory_df['stock_level'].to_dict()\n",
    "\n",
    "# Print the inventory\n",
    "print(\"Initial Inventory:\")\n",
    "print(inventory_dict)\n"
   ]
  },
  {
   "cell_type": "markdown",
   "id": "7ff0bb1b-a7e8-4f1b-99b3-ba288922923e",
   "metadata": {},
   "source": [
    "Notice that the output above is now a dictionary where the product names are the keys, and the stock levels are the corresponding values. \n",
    "\n",
    "For example, \"Salmon Snacks\" is the key and \"25\" is the value. \n",
    "\n",
    "This structure allows for efficient lookup and management of inventory information. \n",
    "\n",
    "Imagine that a new shipment of exciting pet products has arrived at The Furry Foodie and you need to update your `inventory_dict` dictionary to reflect these changes.\n",
    "\n",
    "In the cell below: \n",
    "\n",
    "* Add a new item, \"Puppy Snacks\", to the `inventory_dict` with a stock level of 40.\n",
    "* We also received additional stock of \"Cheesy Chompers\". Update the stock level of \"Cheesy Chompers\" in the `inventory_dict` to 20.\n",
    "\n",
    "Then, run the cell to print the updated `inventory_dict` and see the changes."
   ]
  },
  {
   "cell_type": "code",
   "execution_count": 31,
   "id": "47ab8b0a-c732-4c2b-b9d9-d20828165491",
   "metadata": {},
   "outputs": [
    {
     "name": "stdout",
     "output_type": "stream",
     "text": [
      "\n",
      "Updated Inventory:\n",
      "{'Salmon Snacks': 25, 'Cheesy Chompers': 20, 'Peanut Butter Biscuits': 30, 'Feathery Fun Sticks': 34, 'Squeaky Sausages': 16, 'Tuna Tidbits': 13, 'Crunchy Carrots': 17, 'Beef Jerky': 16, 'Chicken Chunks': 46, 'Duck Delights': 23, 'Lamb Lovin': 22, 'Turkey Tidbits': 25, 'Fish Fingers': 13, 'Dental Chews': 45, 'Hip & Joint Treats': 33, 'Skin & Coat Formula': 33, 'Calming Chews': 48, 'Training Treats': 11, 'Catnip Mice': 23, 'Feather Wand': 40, 'Laser Pointer': 21, 'Scratching Post': 14, 'Cat Tree': 45, 'Litter Box': 48, 'Litter Scoop': 18, 'Cat Food (dry)': 15, 'Cat Food (wet)': 24, 'Dog Food (dry)': 28, 'Dog Food (wet)': 15, 'Dog Leash': 23, 'Dog Collar': 23, 'Dog Harness': 40, 'Dog Bed': 30, 'Dog Toys': 41, 'Cat Toys': 40, 'Pet Shampoo': 35, 'Pet Conditioner': 27, 'Pet Toothbrush': 38, 'Pet Toothpaste': 24, 'Pet Nail Clippers': 30, 'Pet Carrier': 30, 'Pet Bowls': 27, 'Pet Water Fountain': 12, 'Pet First Aid Kit': 40, 'Pet Grooming Brush': 48, 'Pet Waste Bags': 45, 'Pet Training Clicker': 47, 'Pet Travel Bowl': 17, 'Pet Cooling Mat': 34, 'Pet Heating Pad': 11, 'Puppy Snacks': 40}\n"
     ]
    }
   ],
   "source": [
    "# Add \"Puppy Snacks\" to the inventory\n",
    "inventory_dict[\"insert code here\"] = insert code here\n",
    "\n",
    "# Update \"Cheesy Chompers\" in the inventory and assign it the value of 20\n",
    "inventory_dict[\"insert code here\"] = insert code here\n",
    "\n",
    "print(\"\\nUpdated Inventory:\")\n",
    "print(inventory_dict)"
   ]
  },
  {
   "cell_type": "markdown",
   "id": "50e66730-d4c7-404f-9f95-98ad506d155f",
   "metadata": {},
   "source": [
    "Notice the output above. Puppy Snacks with a stock level of 40 has been added to your dictionary! The stock level value of Cheesy Chompers has also been updated to 20! Great work.\n",
    "\n",
    "Unfortunately, you hear that \"Peanut Butter Biscuits\" has been discontinued at The Furry Foodie.\n",
    "\n",
    "You need to remove this item from your `inventory_dict` dictionary to keep the records up-to-date.\n",
    "\n",
    "In the cell below: \n",
    "\n",
    "* Use the `del` keyword to remove the \"Peanut Butter Biscuits\" entry from the `inventory_dict` dictionary. Add `del` to the front of the `inventory_dict` variable and fill in \"Peanut Butter Biscuits\".\n",
    "\n",
    "Then, run the cell to print the updated `inventory_dict` and see the changes."
   ]
  },
  {
   "cell_type": "code",
   "execution_count": 33,
   "id": "c09545d6-7740-43b1-b5ef-daaf60787233",
   "metadata": {},
   "outputs": [
    {
     "name": "stdout",
     "output_type": "stream",
     "text": [
      "\n",
      "Updated Inventory after Discontinuation:\n",
      "{'Salmon Snacks': 25, 'Cheesy Chompers': 15, 'Feathery Fun Sticks': 34, 'Squeaky Sausages': 16, 'Tuna Tidbits': 13, 'Crunchy Carrots': 17, 'Beef Jerky': 16, 'Chicken Chunks': 46, 'Duck Delights': 23, 'Lamb Lovin': 22, 'Turkey Tidbits': 25, 'Fish Fingers': 13, 'Dental Chews': 45, 'Hip & Joint Treats': 33, 'Skin & Coat Formula': 33, 'Calming Chews': 48, 'Training Treats': 11, 'Catnip Mice': 23, 'Feather Wand': 40, 'Laser Pointer': 21, 'Scratching Post': 14, 'Cat Tree': 45, 'Litter Box': 48, 'Litter Scoop': 18, 'Cat Food (dry)': 15, 'Cat Food (wet)': 24, 'Dog Food (dry)': 28, 'Dog Food (wet)': 15, 'Dog Leash': 23, 'Dog Collar': 23, 'Dog Harness': 40, 'Dog Bed': 30, 'Dog Toys': 41, 'Cat Toys': 40, 'Pet Shampoo': 35, 'Pet Conditioner': 27, 'Pet Toothbrush': 38, 'Pet Toothpaste': 24, 'Pet Nail Clippers': 30, 'Pet Carrier': 30, 'Pet Bowls': 27, 'Pet Water Fountain': 12, 'Pet First Aid Kit': 40, 'Pet Grooming Brush': 48, 'Pet Waste Bags': 45, 'Pet Training Clicker': 47, 'Pet Travel Bowl': 17, 'Pet Cooling Mat': 34, 'Pet Heating Pad': 11}\n"
     ]
    }
   ],
   "source": [
    "# We've discontinued \"Peanut Butter Biscuits\". Remove it from the inventory\n",
    "\n",
    "# Remove item \n",
    "\"insert code here\" inventory_dict[\"insert code here\"] \n",
    "\n",
    "print(\"\\nUpdated Inventory after Discontinuation:\")\n",
    "print(inventory_dict)\n"
   ]
  },
  {
   "cell_type": "markdown",
   "id": "b46fa76a-c5d7-4461-89da-0ed2c30f833b",
   "metadata": {},
   "source": [
    "Great work! Now, run the cell below, which will generate a nicely formatted inventory report.\n",
    "\n",
    "Here's a breakdown of the final cell:\n",
    "\n",
    "* Print a header: It will start by printing a clear header \"Inventory Report:\" to visually separate the report from other output.\n",
    "\n",
    "* Iterate through the inventory: It uses a `for` loop to go through each item in the `inventory_dict` dictionary.  \n",
    "\n",
    "* Extract product and stock information: For each iteration of the loop, the `items()` method of the dictionary is used to get both the `product` (key) and its corresponding `stock` level (value).\n",
    "\n",
    "* Print formatted output: Using an f-string, it creates a nicely formatted line of text for each product, displaying its name and current stock level. This creates a clear and organized inventory report.\n",
    "\n",
    "Run the code and see the report!\n"
   ]
  },
  {
   "cell_type": "code",
   "execution_count": 35,
   "id": "2f6bc74f-4ddd-4ed3-b1b9-ca172a92b398",
   "metadata": {},
   "outputs": [
    {
     "name": "stdout",
     "output_type": "stream",
     "text": [
      "\n",
      "Inventory Report:\n",
      "Product: Salmon Snacks, Stock: 25\n",
      "Product: Cheesy Chompers, Stock: 15\n",
      "Product: Feathery Fun Sticks, Stock: 34\n",
      "Product: Squeaky Sausages, Stock: 16\n",
      "Product: Tuna Tidbits, Stock: 13\n",
      "Product: Crunchy Carrots, Stock: 17\n",
      "Product: Beef Jerky, Stock: 16\n",
      "Product: Chicken Chunks, Stock: 46\n",
      "Product: Duck Delights, Stock: 23\n",
      "Product: Lamb Lovin, Stock: 22\n",
      "Product: Turkey Tidbits, Stock: 25\n",
      "Product: Fish Fingers, Stock: 13\n",
      "Product: Dental Chews, Stock: 45\n",
      "Product: Hip & Joint Treats, Stock: 33\n",
      "Product: Skin & Coat Formula, Stock: 33\n",
      "Product: Calming Chews, Stock: 48\n",
      "Product: Training Treats, Stock: 11\n",
      "Product: Catnip Mice, Stock: 23\n",
      "Product: Feather Wand, Stock: 40\n",
      "Product: Laser Pointer, Stock: 21\n",
      "Product: Scratching Post, Stock: 14\n",
      "Product: Cat Tree, Stock: 45\n",
      "Product: Litter Box, Stock: 48\n",
      "Product: Litter Scoop, Stock: 18\n",
      "Product: Cat Food (dry), Stock: 15\n",
      "Product: Cat Food (wet), Stock: 24\n",
      "Product: Dog Food (dry), Stock: 28\n",
      "Product: Dog Food (wet), Stock: 15\n",
      "Product: Dog Leash, Stock: 23\n",
      "Product: Dog Collar, Stock: 23\n",
      "Product: Dog Harness, Stock: 40\n",
      "Product: Dog Bed, Stock: 30\n",
      "Product: Dog Toys, Stock: 41\n",
      "Product: Cat Toys, Stock: 40\n",
      "Product: Pet Shampoo, Stock: 35\n",
      "Product: Pet Conditioner, Stock: 27\n",
      "Product: Pet Toothbrush, Stock: 38\n",
      "Product: Pet Toothpaste, Stock: 24\n",
      "Product: Pet Nail Clippers, Stock: 30\n",
      "Product: Pet Carrier, Stock: 30\n",
      "Product: Pet Bowls, Stock: 27\n",
      "Product: Pet Water Fountain, Stock: 12\n",
      "Product: Pet First Aid Kit, Stock: 40\n",
      "Product: Pet Grooming Brush, Stock: 48\n",
      "Product: Pet Waste Bags, Stock: 45\n",
      "Product: Pet Training Clicker, Stock: 47\n",
      "Product: Pet Travel Bowl, Stock: 17\n",
      "Product: Pet Cooling Mat, Stock: 34\n",
      "Product: Pet Heating Pad, Stock: 11\n"
     ]
    }
   ],
   "source": [
    "# It's time to generate a nicely formatted inventory report!\n",
    "\n",
    "print(\"\\nInventory Report:\")\n",
    "for product, stock in inventory_dict.items(): \n",
    "    print(f\"Product: {product}, Stock: {stock}\") \n"
   ]
  },
  {
   "cell_type": "markdown",
   "id": "9edf79f2-4efb-455b-8282-5474f0656e1a",
   "metadata": {},
   "source": [
    "## Project Recap: Managing Inventory at The Furry Foodie with Python\n",
    "\n",
    "Congratulations on completing the Furry Foodie inventory management project! You've successfully applied your Python skills to keep our shelves stocked and our furry customers happy. Let's recap what you've learned:\n",
    "\n",
    "* **Lists:** You've mastered how to use lists to represent and manage inventory. You've added new items, removed out-of-stock products, and kept everything organized, ensuring we never run out of the treats our pets love.\n",
    "\n",
    "* **Tuples:** You've learned how to leverage the immutability of tuples to store crucial product identifiers, guaranteeing data integrity and preventing accidental modifications.\n",
    "\n",
    "* **Dictionaries:** You've harnessed the power of dictionaries to create a flexible and efficient inventory database. You've added new products, updated stock levels, checked for item availability, and even removed discontinued items from the inventory.\n",
    "\n",
    "* **Iterating over Dictionaries:** You've used loops to traverse dictionaries, extracting key-value pairs to generate clear and informative inventory reports, keeping both management and customers well-informed.\n",
    "\n",
    "* **Working with External Data:** You've learned how to load and process data from a CSV file using the pandas library, enabling you to interact with real-world datasets.\n"
   ]
  }
 ],
 "metadata": {
  "kernelspec": {
   "display_name": "Python 3",
   "language": "python",
   "name": "python3"
  },
  "language_info": {
   "codemirror_mode": {
    "name": "ipython",
    "version": 3
   },
   "file_extension": ".py",
   "mimetype": "text/x-python",
   "name": "python",
   "nbconvert_exporter": "python",
   "pygments_lexer": "ipython3",
   "version": "3.13.3"
  }
 },
 "nbformat": 4,
 "nbformat_minor": 5
}
